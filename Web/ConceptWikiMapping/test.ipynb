{
  "cells": [
    {
      "cell_type": "code",
      "source": [
        "testdata = [\n",
        "    [('acceleration', 29), ('time', 27), ('velocity', 26), ('position', 20), ('change', 17)],\n",
        "    [('velocity', 16), ('position', 12), ('equation', 11), ('number', 9), ('acceleration', 9)],\n",
        "    [('acceleration', 20), ('equation', 17), ('velocity', 16), ('time', 12), ('position', 11)],\n",
        "    [('vector', 19), ('velocity', 17), ('ball', 17), ('direction', 15), ('motion', 11)],\n",
        "    [('force', 55), ('gravity', 13), ('mass', 13), ('acceleration', 11), ('lift', 10)],\n",
        "    [('force', 42), ('friction', 37), ('bookcase', 19), ('ramp', 18), ('floor', 10)],\n",
        "    [('acceleration', 24), ('circle', 21), ('motion', 15), ('force', 13), ('velocity', 13)],\n",
        "    [('apple', 16), ('force', 16), ('law', 14), ('newton', 14), ('gravity', 10)],\n",
        "    [('energy', 51), ('work', 27), ('force', 25), ('box', 20), ('times', 14)],\n",
        "    [('mass', 34), ('momentum', 21), ('ball', 20), ('times', 14), ('collision', 12)],\n",
        "    [('velocity', 43), ('motion', 25), ('wheel', 22), ('acceleration', 13), ('times', 11)],\n",
        "    [('energy', 22), ('motion', 17), ('inertia', 16), ('moment', 14), ('mass', 12)],\n",
        "    [('force', 32), ('ladder', 19), ('wall', 12), ('stress', 9), ('torques', 8)],\n",
        "    [('pressure', 38), ('water', 33), ('force', 22), ('fluid', 15), ('density', 11)],\n",
        "    [('water', 31), ('fluid', 22), ('pipe', 20), ('energy', 20), ('velocity', 19)],\n",
        "    [('motion', 27), ('spring', 23), ('energy', 19), ('ball', 17), ('bridge', 16)],\n",
        "    [('rope', 16), ('wave', 14), ('energy', 13), ('times', 8), ('time', 7)],\n",
        "    [('sound', 28), ('intensity', 16), ('meter', 11), ('pitch', 9), ('pressure', 8)],\n",
        "    [('wave', 25), ('frequency', 20), ('end', 20), ('pipe', 13), ('number', 11)],\n",
        "    [('gas', 35), ('temperature', 27), ('volume', 25), ('expansion', 17), ('pressure', 15)],\n",
        "    [('gas', 26), ('temperature', 26), ('point', 22), ('pressure', 19), ('water', 18)],\n",
        "    [('heat', 67), ('temperature', 24), ('energy', 20), ('water', 14), ('system', 12)],\n",
        "    [('heat', 33), ('system', 31), ('work', 26), ('energy', 17), ('change', 17)],\n",
        "    [('heat', 60), ('engine', 51), ('temperature', 27), ('work', 20), ('efficiency', 18)],\n",
        "    [('charge', 34), ('rod', 21), ('force', 10), ('law', 7), ('metal', 6)],\n",
        "    [('field', 44), ('charge', 34), ('test', 14), ('force', 13), ('particle', 13)],\n",
        "    [('charge', 43), ('energy', 37), ('field', 26), ('capacitor', 25), ('voltage', 14)],\n",
        "    [('resistance', 19), ('voltage', 15), ('power', 13), ('charge', 12), ('energy', 11)],\n",
        "    [('resistance', 37), ('voltage', 32), ('circuit', 26), ('battery', 16), ('bulb', 13)],\n",
        "    [('resistor', 40), ('voltage', 32), ('circuit', 26), ('drop', 20), ('resistance', 19)],\n",
        "    [('voltage', 24), ('circuit', 21), ('charge', 20), ('capacitor', 17), ('loop', 14)],\n",
        "    [('field', 51), ('force', 27), ('direction', 21), ('wire', 17), ('charge', 12)],\n",
        "    [('field', 43), ('wire', 27), ('times', 17), ('circle', 16), ('law', 14)],\n",
        "    [('field', 54), ('loop', 31), ('flux', 21), ('wire', 20), ('change', 16)],\n",
        "    [('coil', 46), ('voltage', 20), ('power', 16), ('field', 14), ('times', 10)],\n",
        "    [('voltage', 46), ('time', 18), ('circuit', 17), ('inductor', 12), ('resistance', 9)],\n",
        "    [('field', 38), ('energy', 19), ('maxwell', 15), ('equation', 15), ('law', 12)],\n",
        "    [('image', 25), ('lens', 20), ('refraction', 17), ('point', 16), ('angle', 14)],\n",
        "    [('line', 17), ('difference', 15), ('slit', 13), ('wave', 12), ('path', 12)],\n",
        "    [('light', 22), ('interference', 13), ('direction', 10), ('water', 9), ('oil', 8)],\n",
        "    [('image', 34), ('lens', 21), ('angle', 12), ('point', 11), ('eye', 11)],\n",
        "    [('time', 27), ('train', 23), ('speed', 19), ('reference', 15), ('bob', 12)],\n",
        "    [('energy', 32), ('intensity', 14), ('frequency', 14), ('light', 14), ('particle', 10)],\n",
        "    [('momentum', 15), ('electron', 14), ('probability', 13), ('way', 11), ('position', 9)],\n",
        "    [('mass', 33), ('energy', 23), ('number', 22), ('decay', 16), ('force', 13)],\n",
        "    [('matter', 9), ('radiation', 9), ('universe', 9), ('year', 9), ('energy', 8)],\n",
        "]"
      ],
      "outputs": [],
      "execution_count": 1,
      "metadata": {
        "collapsed": false,
        "outputHidden": false,
        "inputHidden": false
      }
    },
    {
      "cell_type": "code",
      "source": [
        "wordset = []\n",
        "for i in range(len(testdata)):\n",
        "    wordset.append([])\n",
        "    for j in range(5):\n",
        "#         print(testdata[i][j][0])\n",
        "        wordset[i].append(testdata[i][j][0])"
      ],
      "outputs": [],
      "execution_count": 2,
      "metadata": {
        "collapsed": false,
        "outputHidden": false,
        "inputHidden": false
      }
    },
    {
      "cell_type": "code",
      "source": [
        "print(wordset[0])"
      ],
      "outputs": [
        {
          "output_type": "stream",
          "name": "stdout",
          "text": [
            "['acceleration', 'time', 'velocity', 'position', 'change']\n"
          ]
        }
      ],
      "execution_count": 3,
      "metadata": {
        "collapsed": false,
        "outputHidden": false,
        "inputHidden": false
      }
    },
    {
      "cell_type": "code",
      "source": [
        "import requests\n",
        "from urllib.request import urlopen\n",
        "from bs4 import BeautifulSoup\n",
        "import html\n",
        "import wikipedia\n",
        "\n",
        "def mapping_first_page(concept):\n",
        "    # 첫번째 검색결과랑 매핑\n",
        "    # in : concept\n",
        "    # out : url, title\n",
        "\n",
        "    api_base_url = 'http://en.wikipedia.org/w/api.php'\n",
        "    wiki_attr = {\n",
        "        'action': 'query',\n",
        "        'prop': 'info',\n",
        "        'format': 'json',\n",
        "        'titles': concept\n",
        "    }\n",
        "\n",
        "    json_page = requests.get(api_base_url, params=wiki_attr)\n",
        "    data = json_page.json()\n",
        "\n",
        "    wiki_id = list(data['query']['pages'].keys())[0] # wiki page id ex) 1556539\n",
        "    # you can use wiki_id like this \"https://en.wikipedia.org/?curid=1556539\"\n",
        "    wiki_title = data['query']['pages'][wiki_id]['title']  # concept's wiki title ex) Newton's first law\n",
        "\n\n",
        "    if wiki_id == \"-1\": # page does not exist\n",
        "        if len(wikipedia.search(wiki_title)) == 0:\n",
        "            return 0\n",
        "        else:\n",
        "            new_title = wikipedia.search(wiki_title)[0]\n",
        "            base_url = \"https://en.wikipedia.org/wiki/\"\n",
        "            return new_title, base_url + new_title\n",
        "    else:\n",
        "        base_url = \"https://en.wikipedia.org/wiki/\"\n",
        "        url = base_url + wiki_title\n",
        "        html_page = urlopen(url)\n",
        "        bs_obj = BeautifulSoup(html_page, \"html.parser\")\n",
        "        new_title = bs_obj.select(\"h1#firstHeading\")[0].get_text()\n",
        "        url = base_url + new_title\n",
        "        return new_title, url\n",
        "\n",
        "def get_urls_from_concepts(concepts):\n",
        "    # 첫번째 검색결과랑 매핑\n",
        "    # in : [concept1, concept2, concept3 ... ]\n",
        "    # out : {'concept1':'url1', 'concept2':'url2', ....}\n",
        "    concept_page_list = {}\n",
        "    for concept in concepts:\n",
        "        mapped_page = mapping_first_page(concept)\n",
        "        if mapped_page != 0:\n",
        "            title = mapped_page[0]\n",
        "            url = mapped_page[1]\n",
        "            concept_page_list[title] = url\n",
        "    return concept_page_list\n",
        "\n\n",
        "# example\n",
        "# url_list = get_urls_from_concepts([\"Supervised regression problem\", \"neural network\", \"machine learning\"])\n",
        "# print(url_list)\n"
      ],
      "outputs": [],
      "execution_count": 4,
      "metadata": {
        "collapsed": false,
        "outputHidden": false,
        "inputHidden": false
      }
    },
    {
      "cell_type": "code",
      "source": [
        "candidate = [5, 11, 20, 22, 30, 38, 45]\n",
        "\n",
        "for idx in candidate:\n",
        "    print(wordset[idx-1])"
      ],
      "outputs": [
        {
          "output_type": "stream",
          "name": "stdout",
          "text": [
            "['force', 'gravity', 'mass', 'acceleration', 'lift']\n",
            "['velocity', 'motion', 'wheel', 'acceleration', 'times']\n",
            "['gas', 'temperature', 'volume', 'expansion', 'pressure']\n",
            "['heat', 'temperature', 'energy', 'water', 'system']\n",
            "['resistor', 'voltage', 'circuit', 'drop', 'resistance']\n",
            "['image', 'lens', 'refraction', 'point', 'angle']\n",
            "['mass', 'energy', 'number', 'decay', 'force']\n"
          ]
        }
      ],
      "execution_count": 5,
      "metadata": {
        "collapsed": false,
        "outputHidden": false,
        "inputHidden": false
      }
    },
    {
      "cell_type": "code",
      "source": [
        "for idx in candidate:\n",
        "    print(idx, wordset[idx-1])\n",
        "    url_list = get_urls_from_concepts(wordset[idx-1])\n",
        "    print(url_list)"
      ],
      "outputs": [
        {
          "output_type": "stream",
          "name": "stdout",
          "text": [
            "5 ['force', 'gravity', 'mass', 'acceleration', 'lift']\n",
            "{'Gravity': 'https://en.wikipedia.org/wiki/Gravity', 'Acceleration': 'https://en.wikipedia.org/wiki/Acceleration', 'Force': 'https://en.wikipedia.org/wiki/Force', 'Lift': 'https://en.wikipedia.org/wiki/Lift', 'Mass': 'https://en.wikipedia.org/wiki/Mass'}\n",
            "11 ['velocity', 'motion', 'wheel', 'acceleration', 'times']\n",
            "{'Acceleration': 'https://en.wikipedia.org/wiki/Acceleration', 'The Times (disambiguation)': 'https://en.wikipedia.org/wiki/The Times (disambiguation)', 'Velocity': 'https://en.wikipedia.org/wiki/Velocity', 'Wheel': 'https://en.wikipedia.org/wiki/Wheel', 'Motion': 'https://en.wikipedia.org/wiki/Motion'}\n",
            "20 ['gas', 'temperature', 'volume', 'expansion', 'pressure']\n",
            "{'Volume': 'https://en.wikipedia.org/wiki/Volume', 'Temperature': 'https://en.wikipedia.org/wiki/Temperature', 'Expansion': 'https://en.wikipedia.org/wiki/Expansion', 'Gas': 'https://en.wikipedia.org/wiki/Gas', 'Pressure': 'https://en.wikipedia.org/wiki/Pressure'}\n",
            "22 ['heat', 'temperature', 'energy', 'water', 'system']\n",
            "{'Heat': 'https://en.wikipedia.org/wiki/Heat', 'Temperature': 'https://en.wikipedia.org/wiki/Temperature', 'Energy': 'https://en.wikipedia.org/wiki/Energy', 'System': 'https://en.wikipedia.org/wiki/System', 'Water': 'https://en.wikipedia.org/wiki/Water'}\n",
            "30 ['resistor', 'voltage', 'circuit', 'drop', 'resistance']\n",
            "{'Resistance': 'https://en.wikipedia.org/wiki/Resistance', 'Circuit': 'https://en.wikipedia.org/wiki/Circuit', 'Resistor': 'https://en.wikipedia.org/wiki/Resistor', 'Voltage': 'https://en.wikipedia.org/wiki/Voltage', 'Drop': 'https://en.wikipedia.org/wiki/Drop'}\n",
            "38 ['image', 'lens', 'refraction', 'point', 'angle']\n",
            "{'Lens': 'https://en.wikipedia.org/wiki/Lens', 'Angle': 'https://en.wikipedia.org/wiki/Angle', 'Refraction': 'https://en.wikipedia.org/wiki/Refraction', 'Point': 'https://en.wikipedia.org/wiki/Point', 'Image': 'https://en.wikipedia.org/wiki/Image'}\n",
            "45 ['mass', 'energy', 'number', 'decay', 'force']\n",
            "{'Number': 'https://en.wikipedia.org/wiki/Number', 'Force': 'https://en.wikipedia.org/wiki/Force', 'Decay': 'https://en.wikipedia.org/wiki/Decay', 'Energy': 'https://en.wikipedia.org/wiki/Energy', 'Mass': 'https://en.wikipedia.org/wiki/Mass'}\n"
          ]
        }
      ],
      "execution_count": 8,
      "metadata": {
        "collapsed": false,
        "outputHidden": false,
        "inputHidden": false
      }
    },
    {
      "cell_type": "code",
      "source": [
        "mapping_results = {}\n",
        "for idx in candidate:\n",
        "    print(idx, wordset[idx-1])\n",
        "    for word in wordset[idx-1]:\n",
        "        result = mapping_first_page(word)\n",
        "        print(word, \"to\", result)\n",
        "        mapping_results[word] = result"
      ],
      "outputs": [
        {
          "output_type": "stream",
          "name": "stdout",
          "text": [
            "5 ['force', 'gravity', 'mass', 'acceleration', 'lift']\n",
            "force to ('Force', 'https://en.wikipedia.org/wiki/Force')\n",
            "gravity to ('Gravity', 'https://en.wikipedia.org/wiki/Gravity')\n",
            "mass to ('Mass', 'https://en.wikipedia.org/wiki/Mass')\n",
            "acceleration to ('Acceleration', 'https://en.wikipedia.org/wiki/Acceleration')\n",
            "lift to ('Lift', 'https://en.wikipedia.org/wiki/Lift')\n",
            "11 ['velocity', 'motion', 'wheel', 'acceleration', 'times']\n",
            "velocity to ('Velocity', 'https://en.wikipedia.org/wiki/Velocity')\n",
            "motion to ('Motion', 'https://en.wikipedia.org/wiki/Motion')\n",
            "wheel to ('Wheel', 'https://en.wikipedia.org/wiki/Wheel')\n",
            "acceleration to ('Acceleration', 'https://en.wikipedia.org/wiki/Acceleration')\n",
            "times to ('The Times (disambiguation)', 'https://en.wikipedia.org/wiki/The Times (disambiguation)')\n",
            "20 ['gas', 'temperature', 'volume', 'expansion', 'pressure']\n",
            "gas to ('Gas', 'https://en.wikipedia.org/wiki/Gas')\n",
            "temperature to ('Temperature', 'https://en.wikipedia.org/wiki/Temperature')\n",
            "volume to ('Volume', 'https://en.wikipedia.org/wiki/Volume')\n",
            "expansion to ('Expansion', 'https://en.wikipedia.org/wiki/Expansion')\n",
            "pressure to ('Pressure', 'https://en.wikipedia.org/wiki/Pressure')\n",
            "22 ['heat', 'temperature', 'energy', 'water', 'system']\n",
            "heat to ('Heat', 'https://en.wikipedia.org/wiki/Heat')\n",
            "temperature to ('Temperature', 'https://en.wikipedia.org/wiki/Temperature')\n",
            "energy to ('Energy', 'https://en.wikipedia.org/wiki/Energy')\n",
            "water to ('Water', 'https://en.wikipedia.org/wiki/Water')\n",
            "system to ('System', 'https://en.wikipedia.org/wiki/System')\n",
            "30 ['resistor', 'voltage', 'circuit', 'drop', 'resistance']\n",
            "resistor to ('Resistor', 'https://en.wikipedia.org/wiki/Resistor')\n",
            "voltage to ('Voltage', 'https://en.wikipedia.org/wiki/Voltage')\n",
            "circuit to ('Circuit', 'https://en.wikipedia.org/wiki/Circuit')\n",
            "drop to ('Drop', 'https://en.wikipedia.org/wiki/Drop')\n",
            "resistance to ('Resistance', 'https://en.wikipedia.org/wiki/Resistance')\n",
            "38 ['image', 'lens', 'refraction', 'point', 'angle']\n",
            "image to ('Image', 'https://en.wikipedia.org/wiki/Image')\n",
            "lens to ('Lens', 'https://en.wikipedia.org/wiki/Lens')\n",
            "refraction to ('Refraction', 'https://en.wikipedia.org/wiki/Refraction')\n",
            "point to ('Point', 'https://en.wikipedia.org/wiki/Point')\n",
            "angle to ('Angle', 'https://en.wikipedia.org/wiki/Angle')\n",
            "45 ['mass', 'energy', 'number', 'decay', 'force']\n",
            "mass to ('Mass', 'https://en.wikipedia.org/wiki/Mass')\n",
            "energy to ('Energy', 'https://en.wikipedia.org/wiki/Energy')\n",
            "number to ('Number', 'https://en.wikipedia.org/wiki/Number')\n",
            "decay to ('Decay', 'https://en.wikipedia.org/wiki/Decay')\n",
            "force to ('Force', 'https://en.wikipedia.org/wiki/Force')\n"
          ]
        }
      ],
      "execution_count": 7,
      "metadata": {
        "collapsed": false,
        "outputHidden": false,
        "inputHidden": false
      }
    },
    {
      "cell_type": "code",
      "source": [
        "neuralnet_dataset = [\n",
        "    [\n",
        "      \"neural network\",\n",
        "      \"python\",\n",
        "      \"predictions\",\n",
        "      \"Cost function\",\n",
        "      \"weights\",\n",
        "      \"synapses\",\n",
        "      \"Machine learning\",\n",
        "      \"curse of dimensionality\",\n",
        "      \"neural Network\",\n",
        "      \"precision\",\n",
        "      \"evaluations \",\n",
        "      \"optimization\",\n",
        "      \"computational time\",\n",
        "      \"gradient descent\",\n",
        "      \"dimension\",\n",
        "      \"non convex\",\n",
        "      \"squared errors\",\n",
        "      \"non convex Loss functions\"\n",
        "    ]\n",
        "]"
      ],
      "outputs": [],
      "execution_count": 9,
      "metadata": {
        "collapsed": false,
        "outputHidden": false,
        "inputHidden": false
      }
    },
    {
      "cell_type": "code",
      "source": [
        "neuralnet_dataset[0]"
      ],
      "outputs": [
        {
          "output_type": "execute_result",
          "execution_count": 10,
          "data": {
            "text/plain": [
              "['neural network',\n",
              " 'python',\n",
              " 'predictions',\n",
              " 'Cost function',\n",
              " 'weights',\n",
              " 'synapses',\n",
              " 'Machine learning',\n",
              " 'curse of dimensionality',\n",
              " 'neural Network',\n",
              " 'precision',\n",
              " 'evaluations ',\n",
              " 'optimization',\n",
              " 'computational time',\n",
              " 'gradient descent',\n",
              " 'dimension',\n",
              " 'non convex',\n",
              " 'squared errors',\n",
              " 'non convex Loss functions']"
            ]
          },
          "metadata": {}
        }
      ],
      "execution_count": 10,
      "metadata": {
        "collapsed": false,
        "outputHidden": false,
        "inputHidden": false
      }
    },
    {
      "cell_type": "code",
      "source": [
        "neuralnet_mappingresult = {}\n",
        "\n",
        "print(neuralnet_dataset[0])\n",
        "for word in neuralnet_dataset[0]:\n",
        "    result = mapping_first_page(word)\n",
        "    print(word, \"to\", result)\n",
        "    neuralnet_mappingresult[word] = result"
      ],
      "outputs": [
        {
          "output_type": "stream",
          "name": "stdout",
          "text": [
            "['neural network', 'python', 'predictions', 'Cost function', 'weights', 'synapses', 'Machine learning', 'curse of dimensionality', 'neural Network', 'precision', 'evaluations ', 'optimization', 'computational time', 'gradient descent', 'dimension', 'non convex', 'squared errors', 'non convex Loss functions']\n",
            "neural network to ('Artificial neural network', 'https://en.wikipedia.org/wiki/Artificial neural network')\n",
            "python to ('Python', 'https://en.wikipedia.org/wiki/Python')\n",
            "predictions to ('Prediction', 'https://en.wikipedia.org/wiki/Prediction')\n",
            "Cost function to ('Cost function', 'https://en.wikipedia.org/wiki/Cost function')\n",
            "weights to ('Weight (disambiguation)', 'https://en.wikipedia.org/wiki/Weight (disambiguation)')\n",
            "synapses to ('Synapse', 'https://en.wikipedia.org/wiki/Synapse')\n",
            "Machine learning to ('Machine learning', 'https://en.wikipedia.org/wiki/Machine learning')\n",
            "curse of dimensionality to ('Curse of dimensionality', 'https://en.wikipedia.org/wiki/Curse of dimensionality')\n",
            "neural Network to ('Artificial neural network', 'https://en.wikipedia.org/wiki/Artificial neural network')\n",
            "precision to ('Precision', 'https://en.wikipedia.org/wiki/Precision')\n",
            "evaluations  to ('Evaluation', 'https://en.wikipedia.org/wiki/Evaluation')\n",
            "optimization to ('Mathematical optimization', 'https://en.wikipedia.org/wiki/Mathematical optimization')\n",
            "computational time to ('Time complexity', 'https://en.wikipedia.org/wiki/Time complexity')\n",
            "gradient descent to ('Gradient descent', 'https://en.wikipedia.org/wiki/Gradient descent')\n",
            "dimension to ('Dimension', 'https://en.wikipedia.org/wiki/Dimension')\n",
            "non convex to ('Convex set', 'https://en.wikipedia.org/wiki/Convex set')\n",
            "squared errors to ('Mean squared error', 'https://en.wikipedia.org/wiki/Mean squared error')\n",
            "non convex Loss functions to ('Loss functions for classification', 'https://en.wikipedia.org/wiki/Loss functions for classification')\n"
          ]
        }
      ],
      "execution_count": 13,
      "metadata": {
        "collapsed": false,
        "outputHidden": false,
        "inputHidden": false
      }
    },
    {
      "cell_type": "code",
      "source": [],
      "outputs": [],
      "execution_count": null,
      "metadata": {
        "collapsed": false,
        "outputHidden": false,
        "inputHidden": false
      }
    },
    {
      "cell_type": "code",
      "source": [],
      "outputs": [],
      "execution_count": null,
      "metadata": {
        "collapsed": false,
        "outputHidden": false,
        "inputHidden": false
      }
    },
    {
      "cell_type": "code",
      "source": [],
      "outputs": [],
      "execution_count": null,
      "metadata": {
        "collapsed": false,
        "outputHidden": false,
        "inputHidden": false
      }
    },
    {
      "cell_type": "code",
      "source": [],
      "outputs": [],
      "execution_count": null,
      "metadata": {
        "collapsed": false,
        "outputHidden": false,
        "inputHidden": false
      }
    }
  ],
  "metadata": {
    "kernelspec": {
      "name": "python3",
      "language": "python",
      "display_name": "Python 3"
    },
    "kernel_info": {
      "name": "python3"
    },
    "language_info": {
      "nbconvert_exporter": "python",
      "file_extension": ".py",
      "pygments_lexer": "ipython3",
      "version": "3.5.3",
      "name": "python",
      "codemirror_mode": {
        "version": 3,
        "name": "ipython"
      },
      "mimetype": "text/x-python"
    }
  },
  "nbformat": 4,
  "nbformat_minor": 4
}